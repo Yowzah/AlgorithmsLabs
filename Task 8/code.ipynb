{
 "cells": [
  {
   "cell_type": "code",
   "execution_count": 49,
   "metadata": {},
   "outputs": [],
   "source": [
    "import numpy as np\n",
    "from functools import reduce\n",
    "import matplotlib.pyplot as plt\n",
    "import math"
   ]
  },
  {
   "cell_type": "code",
   "execution_count": 50,
   "metadata": {},
   "outputs": [],
   "source": [
    "#Algorithm Graham Scan\n",
    "def graham_scan(points, start_point, show_progress=False):\n",
    "    def polar_angel(p_0, p_1=None):\n",
    "        if p_1==None: p_1 = start_point\n",
    "        y_span = p_0[1] - p_1[1]\n",
    "        x_span = p_0[0] - p_1[0]\n",
    "        return math.atan2(y_span, x_span)\n",
    "\n",
    "    def distance(p_0, p_1=None):\n",
    "        if p_1==None: p_1 = start_point\n",
    "        y_span = p_0[1] - p_1[1]\n",
    "        x_span = p_0[0] - p_1[1]\n",
    "        return math.sqrt(y_span**2 + x_span**2)\n",
    "\n",
    "    def q_sort(arr):\n",
    "        if len(arr)<=1: return arr\n",
    "        smaller, equal, larger = [], [], []\n",
    "        piv_ang = polar_angel(arr[np.random.randint(0, len(arr)-1)])\n",
    "        for point in arr:\n",
    "            point_ang = polar_angel(point)\n",
    "            if point_ang < piv_ang: smaller.append(point)\n",
    "            elif point_ang == piv_ang: equal.append(point)\n",
    "            else: larger.append(point)\n",
    "        return q_sort(smaller) + sorted(equal, key=distance) + q_sort(larger)\n",
    "\n",
    "    def det(p_1, p_2, p_3):\n",
    "        return (p_2[0]-p_1[0])*(p_3[1]-p_1[1])-(p_2[1]-p_1[1])*(p_3[0]-p_1[0])\n",
    "    \n",
    "    sorted_points=q_sort(points)\n",
    "    del sorted_points[sorted_points.index(start_point)]\n",
    "    sorted_points.append(start_point)\n",
    "    \n",
    "    hull = [start_point, sorted_points[0]]\n",
    "    for point in sorted_points[1:]:\n",
    "        \n",
    "        while det(hull[-2], hull[-1], point) <= 0:\n",
    "            del hull[-1]\n",
    "            if len(hull)<2:break\n",
    "        hull.append(point)\n",
    "        if show_progress: drawHull(points,start_point,hull)\n",
    "    return hull"
   ]
  },
  {
   "cell_type": "code",
   "execution_count": 51,
   "metadata": {},
   "outputs": [],
   "source": [
    "#Algorithm Gift Wrapping\n",
    "def gift_wrapping(S, start_point):\n",
    "    def CCW(p1, p2, p3):\n",
    "        if (p3[1]-p1[1])*(p2[0]-p1[0]) >= (p2[1]-p1[1])*(p3[0]-p1[0]):\n",
    "            return True\n",
    "        return False\n",
    "    \n",
    "    n = len(S)\n",
    "    P = [None] * n\n",
    "    pointOnHull = start_point\n",
    "    i = 0\n",
    "    while True:\n",
    "        P[i] = pointOnHull\n",
    "        endpoint = S[0]\n",
    "        for j in range(1,n):\n",
    "            if (endpoint[0] == pointOnHull[0] and endpoint[1] == pointOnHull[1]) or not CCW(S[j],P[i],endpoint):\n",
    "                endpoint = S[j]\n",
    "        i = i + 1\n",
    "        pointOnHull = endpoint\n",
    "        if endpoint[0] == P[0][0] and endpoint[1] == P[0][1]:\n",
    "            break\n",
    "    for i in range(n):\n",
    "        if P[-1] == None:\n",
    "            del P[-1]\n",
    "    P.append(P[0])\n",
    "    return P"
   ]
  },
  {
   "cell_type": "code",
   "execution_count": 52,
   "metadata": {},
   "outputs": [],
   "source": [
    "#Get hull start point\n",
    "def get_start_point(points):\n",
    "    y_MIN = min(points, key = lambda t: t[1])[1]\n",
    "    min_list = [item for item in points if item[1] == y_MIN]\n",
    "    if len(min_list) > 1:\n",
    "        return min(min_list, key = lambda x: x[0])\n",
    "    else:\n",
    "        return min_list[0]"
   ]
  },
  {
   "cell_type": "code",
   "execution_count": 56,
   "metadata": {},
   "outputs": [],
   "source": [
    "#Draw Hull\n",
    "def drawHull(points, hull_name, s_point=None, hull=None):\n",
    "    fig = plt.figure(figsize=(8,8))\n",
    "    plt.style.use('seaborn-darkgrid')\n",
    "    x, y = zip(*points)\n",
    "    plt.scatter(x,y,color=\"grey\")\n",
    "        \n",
    "    if hull != None:\n",
    "        for i in range(1,len(hull)):\n",
    "            start_point = hull[i-1]\n",
    "            end_point = hull[i]\n",
    "            plt.scatter(end_point[0],end_point[1],color=\"black\")\n",
    "            plt.plot((start_point[0], end_point[0]), (start_point[1], end_point[1]), color=\"red\")\n",
    "            \n",
    "    if start_point != None:\n",
    "        plt.scatter(s_point[0],s_point[1],color=\"green\")\n",
    "    \n",
    "    plt.savefig(\"pictures/\"+hull_name+\".png\")\n",
    "    plt.close(fig)"
   ]
  },
  {
   "cell_type": "code",
   "execution_count": 54,
   "metadata": {
    "scrolled": false
   },
   "outputs": [],
   "source": [
    "lower_border = 1\n",
    "upper_border = 100\n",
    "size = 500\n",
    "\n",
    "X = np.random.randint(lower_border,upper_border,size)\n",
    "Y = np.random.randint(lower_border,upper_border,size)\n",
    "points = list(set([(x_i, y_i) for x_i, y_i in zip(X,Y)]))"
   ]
  },
  {
   "cell_type": "code",
   "execution_count": 57,
   "metadata": {},
   "outputs": [],
   "source": [
    "start_point = get_start_point(points)\n",
    "\n",
    "graham_hull = graham_scan(points, start_point)\n",
    "drawHull(points, \"graham\", start_point, graham_hull)\n",
    "\n",
    "gift_hull = gift_wrapping(points, start_point)\n",
    "drawHull(points, \"gift\", start_point, gift_hull)"
   ]
  },
  {
   "cell_type": "code",
   "execution_count": null,
   "metadata": {},
   "outputs": [],
   "source": []
  }
 ],
 "metadata": {
  "kernelspec": {
   "display_name": "Python 3",
   "language": "python",
   "name": "python3"
  },
  "language_info": {
   "codemirror_mode": {
    "name": "ipython",
    "version": 3
   },
   "file_extension": ".py",
   "mimetype": "text/x-python",
   "name": "python",
   "nbconvert_exporter": "python",
   "pygments_lexer": "ipython3",
   "version": "3.8.5"
  }
 },
 "nbformat": 4,
 "nbformat_minor": 4
}
