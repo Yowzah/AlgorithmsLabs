{
 "cells": [
  {
   "cell_type": "code",
   "execution_count": 52,
   "metadata": {},
   "outputs": [],
   "source": [
    "import sys\n",
    "import random\n",
    "from time import time\n",
    "\n",
    "import numpy as np\n",
    "import pandas as pd\n",
    "import networkx as nx\n",
    "import matplotlib.pyplot as plt\n",
    "from pprint import pprint\n",
    "\n",
    "from pylab import rcParams\n",
    "rcParams['figure.figsize'] = 25, 25\n",
    "np.set_printoptions(threshold=10000)"
   ]
  },
  {
   "cell_type": "code",
   "execution_count": 46,
   "metadata": {},
   "outputs": [],
   "source": [
    "#Task 1\n",
    "N = 100 # Nodes\n",
    "M = 500 # Edges"
   ]
  },
  {
   "cell_type": "code",
   "execution_count": 6,
   "metadata": {},
   "outputs": [],
   "source": [
    "graph = nx.generators.random_graphs.gnm_random_graph(N, M)\n",
    "adjacency_matrix = nx.adjacency_matrix(graph).todense()"
   ]
  },
  {
   "cell_type": "code",
   "execution_count": 7,
   "metadata": {},
   "outputs": [],
   "source": [
    "for e in graph.edges():\n",
    "    graph[e[0]][e[1]]['weight'] = np.random.randint(1, 20)"
   ]
  },
  {
   "cell_type": "code",
   "execution_count": 9,
   "metadata": {},
   "outputs": [],
   "source": [
    "start_index = np.random.randint(len(graph.nodes))\n",
    "start_node= np.array(graph.nodes)[start_index]\n",
    "finish_nodes = np.random.choice(len(graph.nodes), 10)"
   ]
  },
  {
   "cell_type": "code",
   "execution_count": 43,
   "metadata": {},
   "outputs": [],
   "source": [
    "results = pd.DataFrame({'Start node': [],\n",
    "                        'Dijkstra avg time': [],\n",
    "                        'Bellman_ford avg time': [],\n",
    "                        'Bellman_ford slower then Dijkstra (times)': [],\n",
    "                        'Finish nodes': []})"
   ]
  },
  {
   "cell_type": "code",
   "execution_count": 44,
   "metadata": {},
   "outputs": [],
   "source": [
    "dj_times = []\n",
    "bf_times = []\n",
    "\n",
    "for finish_node in finish_nodes:\n",
    "    start_dj = time()\n",
    "    dijkstra_path = nx.dijkstra_path(graph, start_node, finish_node)\n",
    "    end_dj = time()\n",
    "    bellman_ford_path = nx.bellman_ford_path(graph, start_node, finish_node)\n",
    "    end_bf = time()\n",
    "    dj_times.append(end_dj - start_dj)\n",
    "    bf_times.append(end_bf - end_dj)\n",
    "    \n",
    "dj_mid = sum(dj_times)/len(dj_times)\n",
    "bf_mid = sum(bf_times)/len(bf_times)\n",
    "results = results.append({'Start node': str(start_node),\n",
    "                        'Dijkstra avg time': dj_mid,\n",
    "                        'Bellman_ford avg time': bf_mid,\n",
    "                        'Bellman_ford slower then Dijkstra (times)': bf_mid/dj_mid,\n",
    "                        'Finish nodes': finish_nodes}, ignore_index=True)"
   ]
  },
  {
   "cell_type": "code",
   "execution_count": 45,
   "metadata": {},
   "outputs": [
    {
     "data": {
      "text/html": [
       "<div>\n",
       "<style scoped>\n",
       "    .dataframe tbody tr th:only-of-type {\n",
       "        vertical-align: middle;\n",
       "    }\n",
       "\n",
       "    .dataframe tbody tr th {\n",
       "        vertical-align: top;\n",
       "    }\n",
       "\n",
       "    .dataframe thead th {\n",
       "        text-align: right;\n",
       "    }\n",
       "</style>\n",
       "<table border=\"1\" class=\"dataframe\">\n",
       "  <thead>\n",
       "    <tr style=\"text-align: right;\">\n",
       "      <th></th>\n",
       "      <th>Start node</th>\n",
       "      <th>Dijkstra avg time</th>\n",
       "      <th>Bellman_ford avg time</th>\n",
       "      <th>Bellman_ford slower then Dijkstra (times)</th>\n",
       "      <th>Finish nodes</th>\n",
       "    </tr>\n",
       "  </thead>\n",
       "  <tbody>\n",
       "    <tr>\n",
       "      <th>0</th>\n",
       "      <td>73</td>\n",
       "      <td>0.000517</td>\n",
       "      <td>0.002354</td>\n",
       "      <td>4.552052</td>\n",
       "      <td>[92, 20, 36, 34, 87, 71, 15, 60, 48, 48]</td>\n",
       "    </tr>\n",
       "  </tbody>\n",
       "</table>\n",
       "</div>"
      ],
      "text/plain": [
       "  Start node  Dijkstra avg time  Bellman_ford avg time  \\\n",
       "0         73           0.000517               0.002354   \n",
       "\n",
       "   Bellman_ford slower then Dijkstra (times)  \\\n",
       "0                                   4.552052   \n",
       "\n",
       "                               Finish nodes  \n",
       "0  [92, 20, 36, 34, 87, 71, 15, 60, 48, 48]  "
      ]
     },
     "execution_count": 45,
     "metadata": {},
     "output_type": "execute_result"
    }
   ],
   "source": [
    "results"
   ]
  },
  {
   "cell_type": "code",
   "execution_count": 47,
   "metadata": {},
   "outputs": [],
   "source": [
    "#Task 2\n",
    "G = nx.generators.lattice.grid_graph(dim=[range(10), range(10)])"
   ]
  },
  {
   "cell_type": "code",
   "execution_count": 48,
   "metadata": {},
   "outputs": [
    {
     "name": "stdout",
     "output_type": "stream",
     "text": [
      "Deleted nodes:\n",
      " [(2, 3), (7, 9), (5, 5), (3, 3), (5, 4), (5, 7), (8, 9), (7, 1), (3, 7), (9, 3), (0, 2), (6, 6), (9, 9), (9, 0), (7, 3), (0, 6), (7, 7), (1, 7), (6, 3), (2, 2), (3, 4), (9, 2), (3, 3), (7, 4), (2, 9), (3, 7), (2, 5), (7, 6), (1, 7), (0, 1)]\n"
     ]
    }
   ],
   "source": [
    "nodes_to_del = [(node // 10, node % 10) for node in np.random.choice(10 * 10, 30)]\n",
    "print('Deleted nodes:\\n', nodes_to_del)\n",
    "G.remove_nodes_from(nodes_to_del)"
   ]
  },
  {
   "cell_type": "code",
   "execution_count": 50,
   "metadata": {},
   "outputs": [],
   "source": [
    "df = pd.DataFrame({'Start node': [],\n",
    "                   'End node' : [],\n",
    "                   'Time': [],\n",
    "                   'Path': []})"
   ]
  },
  {
   "cell_type": "code",
   "execution_count": 53,
   "metadata": {},
   "outputs": [
    {
     "data": {
      "text/html": [
       "<div>\n",
       "<style scoped>\n",
       "    .dataframe tbody tr th:only-of-type {\n",
       "        vertical-align: middle;\n",
       "    }\n",
       "\n",
       "    .dataframe tbody tr th {\n",
       "        vertical-align: top;\n",
       "    }\n",
       "\n",
       "    .dataframe thead th {\n",
       "        text-align: right;\n",
       "    }\n",
       "</style>\n",
       "<table border=\"1\" class=\"dataframe\">\n",
       "  <thead>\n",
       "    <tr style=\"text-align: right;\">\n",
       "      <th></th>\n",
       "      <th>Start node</th>\n",
       "      <th>End node</th>\n",
       "      <th>Time</th>\n",
       "      <th>Path</th>\n",
       "    </tr>\n",
       "  </thead>\n",
       "  <tbody>\n",
       "    <tr>\n",
       "      <th>0</th>\n",
       "      <td>[0, 8]</td>\n",
       "      <td>[4, 9]</td>\n",
       "      <td>0.000127</td>\n",
       "      <td>[(0, 8), (1, 8), (2, 8), (3, 8), (4, 8), (4, 9)]</td>\n",
       "    </tr>\n",
       "    <tr>\n",
       "      <th>1</th>\n",
       "      <td>[3, 6]</td>\n",
       "      <td>[8, 0]</td>\n",
       "      <td>0.002210</td>\n",
       "      <td>[(3, 6), (3, 5), (4, 5), (4, 4), (4, 3), (4, 2...</td>\n",
       "    </tr>\n",
       "    <tr>\n",
       "      <th>2</th>\n",
       "      <td>[6, 7]</td>\n",
       "      <td>[4, 3]</td>\n",
       "      <td>0.000313</td>\n",
       "      <td>[(6, 7), (6, 8), (5, 8), (4, 8), (4, 7), (4, 6...</td>\n",
       "    </tr>\n",
       "    <tr>\n",
       "      <th>3</th>\n",
       "      <td>[2, 4]</td>\n",
       "      <td>[1, 2]</td>\n",
       "      <td>0.000106</td>\n",
       "      <td>[(2, 4), (1, 4), (1, 3), (1, 2)]</td>\n",
       "    </tr>\n",
       "    <tr>\n",
       "      <th>4</th>\n",
       "      <td>[8, 6]</td>\n",
       "      <td>[6, 5]</td>\n",
       "      <td>0.000164</td>\n",
       "      <td>[(8, 6), (8, 5), (7, 5), (6, 5)]</td>\n",
       "    </tr>\n",
       "    <tr>\n",
       "      <th>5</th>\n",
       "      <td>[2, 4]</td>\n",
       "      <td>[7, 5]</td>\n",
       "      <td>0.000552</td>\n",
       "      <td>[(2, 4), (1, 4), (1, 3), (1, 2), (1, 1), (2, 1...</td>\n",
       "    </tr>\n",
       "    <tr>\n",
       "      <th>6</th>\n",
       "      <td>[9, 7]</td>\n",
       "      <td>[6, 2]</td>\n",
       "      <td>0.000459</td>\n",
       "      <td>[(9, 7), (8, 7), (8, 6), (8, 5), (8, 4), (8, 3...</td>\n",
       "    </tr>\n",
       "    <tr>\n",
       "      <th>7</th>\n",
       "      <td>[2, 7]</td>\n",
       "      <td>[1, 0]</td>\n",
       "      <td>0.000325</td>\n",
       "      <td>[(2, 7), (2, 6), (1, 6), (1, 5), (1, 4), (1, 3...</td>\n",
       "    </tr>\n",
       "    <tr>\n",
       "      <th>8</th>\n",
       "      <td>[6, 4]</td>\n",
       "      <td>[1, 5]</td>\n",
       "      <td>0.000436</td>\n",
       "      <td>[(6, 4), (6, 5), (7, 5), (8, 5), (8, 6), (8, 7...</td>\n",
       "    </tr>\n",
       "    <tr>\n",
       "      <th>9</th>\n",
       "      <td>[3, 8]</td>\n",
       "      <td>[5, 6]</td>\n",
       "      <td>0.000157</td>\n",
       "      <td>[(3, 8), (4, 8), (4, 7), (4, 6), (5, 6)]</td>\n",
       "    </tr>\n",
       "    <tr>\n",
       "      <th>10</th>\n",
       "      <td>[3, 6]</td>\n",
       "      <td>[2, 1]</td>\n",
       "      <td>0.000377</td>\n",
       "      <td>[(3, 6), (2, 6), (1, 6), (1, 5), (1, 4), (1, 3...</td>\n",
       "    </tr>\n",
       "  </tbody>\n",
       "</table>\n",
       "</div>"
      ],
      "text/plain": [
       "   Start node End node      Time  \\\n",
       "0      [0, 8]   [4, 9]  0.000127   \n",
       "1      [3, 6]   [8, 0]  0.002210   \n",
       "2      [6, 7]   [4, 3]  0.000313   \n",
       "3      [2, 4]   [1, 2]  0.000106   \n",
       "4      [8, 6]   [6, 5]  0.000164   \n",
       "5      [2, 4]   [7, 5]  0.000552   \n",
       "6      [9, 7]   [6, 2]  0.000459   \n",
       "7      [2, 7]   [1, 0]  0.000325   \n",
       "8      [6, 4]   [1, 5]  0.000436   \n",
       "9      [3, 8]   [5, 6]  0.000157   \n",
       "10     [3, 6]   [2, 1]  0.000377   \n",
       "\n",
       "                                                 Path  \n",
       "0    [(0, 8), (1, 8), (2, 8), (3, 8), (4, 8), (4, 9)]  \n",
       "1   [(3, 6), (3, 5), (4, 5), (4, 4), (4, 3), (4, 2...  \n",
       "2   [(6, 7), (6, 8), (5, 8), (4, 8), (4, 7), (4, 6...  \n",
       "3                    [(2, 4), (1, 4), (1, 3), (1, 2)]  \n",
       "4                    [(8, 6), (8, 5), (7, 5), (6, 5)]  \n",
       "5   [(2, 4), (1, 4), (1, 3), (1, 2), (1, 1), (2, 1...  \n",
       "6   [(9, 7), (8, 7), (8, 6), (8, 5), (8, 4), (8, 3...  \n",
       "7   [(2, 7), (2, 6), (1, 6), (1, 5), (1, 4), (1, 3...  \n",
       "8   [(6, 4), (6, 5), (7, 5), (8, 5), (8, 6), (8, 7...  \n",
       "9            [(3, 8), (4, 8), (4, 7), (4, 6), (5, 6)]  \n",
       "10  [(3, 6), (2, 6), (1, 6), (1, 5), (1, 4), (1, 3...  "
      ]
     },
     "execution_count": 53,
     "metadata": {},
     "output_type": "execute_result"
    }
   ],
   "source": [
    "N_EXPERIMENTS = 10\n",
    "for n in range(N_EXPERIMENTS):\n",
    "    idx_1, idx_2 = random.sample(range(len(G.nodes)), 2)\n",
    "    node_1, node_2 = np.array(G.nodes)[idx_1], np.array(G.nodes)[idx_2]\n",
    "    \n",
    "    start_time = time()\n",
    "    path = nx.astar_path(G, tuple(node_1), tuple(node_2))\n",
    "    end_time = time()\n",
    "    \n",
    "    t = end_time - start_time\n",
    "    df = df.append({'Start node': node_1,'End node' : node_2,'Time': t,'Path': path}, ignore_index=True)\n",
    "df"
   ]
  },
  {
   "cell_type": "code",
   "execution_count": 56,
   "metadata": {},
   "outputs": [
    {
     "name": "stdout",
     "output_type": "stream",
     "text": [
      "Avg time: 0.0004749948328191584\n"
     ]
    }
   ],
   "source": [
    "print(\"Avg time: \" + str(df['Time'].mean()))"
   ]
  },
  {
   "cell_type": "code",
   "execution_count": null,
   "metadata": {},
   "outputs": [],
   "source": []
  }
 ],
 "metadata": {
  "kernelspec": {
   "display_name": "Python 3",
   "language": "python",
   "name": "python3"
  },
  "language_info": {
   "codemirror_mode": {
    "name": "ipython",
    "version": 3
   },
   "file_extension": ".py",
   "mimetype": "text/x-python",
   "name": "python",
   "nbconvert_exporter": "python",
   "pygments_lexer": "ipython3",
   "version": "3.8.5"
  }
 },
 "nbformat": 4,
 "nbformat_minor": 4
}
