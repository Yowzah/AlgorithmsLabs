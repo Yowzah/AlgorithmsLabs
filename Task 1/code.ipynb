{
 "cells": [
  {
   "cell_type": "code",
   "execution_count": 67,
   "metadata": {},
   "outputs": [],
   "source": [
    "import numpy\n",
    "import random\n",
    "import timeit\n",
    "from tqdm import tqdm\n",
    "import matplotlib.pyplot as plt\n",
    "import matplotlib as mpl\n",
    "import csv\n",
    "from math import inf\n",
    "import time, functools\n",
    "import decimal\n",
    "import pandas\n",
    "from scipy.optimize import curve_fit"
   ]
  },
  {
   "cell_type": "code",
   "execution_count": 48,
   "metadata": {},
   "outputs": [],
   "source": [
    "def constant(vector,value): \n",
    "    return 0"
   ]
  },
  {
   "cell_type": "code",
   "execution_count": 49,
   "metadata": {},
   "outputs": [],
   "source": [
    "def sumOfVector(vector, value):\n",
    "    return sum(vector)"
   ]
  },
  {
   "cell_type": "code",
   "execution_count": 50,
   "metadata": {},
   "outputs": [],
   "source": [
    "def productOfVector(vector, value):\n",
    "    return numpy.prod(vector)"
   ]
  },
  {
   "cell_type": "code",
   "execution_count": 51,
   "metadata": {},
   "outputs": [],
   "source": [
    "def calculatePolinom(vector, value):\n",
    "    result = decimal.Decimal(0)\n",
    "    power = 0\n",
    "    for item in vector:\n",
    "        result += item*(decimal.Decimal(value)**decimal.Decimal(power))\n",
    "        power += 1\n",
    "    return result"
   ]
  },
  {
   "cell_type": "code",
   "execution_count": 52,
   "metadata": {},
   "outputs": [],
   "source": [
    "def horners(vector,value):\n",
    "    v = list(vector)\n",
    "    v.reverse()\n",
    "    def hRec(v, value):\n",
    "        if (len(v)==1):\n",
    "            return v.pop()\n",
    "        else:\n",
    "            return v.pop() + value*hRec(v,value)\n",
    "    \n",
    "    return hRec(v,value)"
   ]
  },
  {
   "cell_type": "code",
   "execution_count": 53,
   "metadata": {},
   "outputs": [],
   "source": [
    "def bubbleSort(vector,value):\n",
    "    array = list(vector)\n",
    "    size = len(array)\n",
    "    for i in range(size-1):\n",
    "        for j in range(size-i-1):\n",
    "            if array[j] > array[j+1]:\n",
    "                array[j], array[j+1] = array[j+1], array[j]\n",
    "    return array"
   ]
  },
  {
   "cell_type": "code",
   "execution_count": 54,
   "metadata": {},
   "outputs": [],
   "source": [
    "def quickSort(vector, value):\n",
    "    array = list(vector)\n",
    "    if len(array) <= 1:\n",
    "        return array\n",
    "    else:\n",
    "        q = random.choice(array)\n",
    "        s_nums = []\n",
    "        m_nums = []\n",
    "        e_nums = []\n",
    "        for n in array:\n",
    "            if n < q:\n",
    "                s_nums.append(n)\n",
    "            elif n > q:\n",
    "                m_nums.append(n)\n",
    "            else:\n",
    "                e_nums.append(n)\n",
    "        return quickSort(s_nums, value) + e_nums + quickSort(m_nums, value)"
   ]
  },
  {
   "cell_type": "code",
   "execution_count": 55,
   "metadata": {},
   "outputs": [],
   "source": [
    "def binary_search(the_array, item, start, end):\n",
    "    if start == end:\n",
    "        if the_array[start] > item:\n",
    "            return start\n",
    "        else:\n",
    "            return start + 1\n",
    "    if start > end:\n",
    "        return start\n",
    "\n",
    "    mid = round((start + end)/ 2)\n",
    "    if the_array[mid] < item:\n",
    "        return binary_search(the_array, item, mid + 1, end)\n",
    "    elif the_array[mid] > item:\n",
    "        return binary_search(the_array, item, start, mid - 1)\n",
    "    else:\n",
    "        return mid\n",
    "\n",
    "def insertion_sort(the_array):\n",
    "    l = len(the_array)\n",
    "    for index in range(1, l):\n",
    "        value = the_array[index]\n",
    "        pos = binary_search(the_array, value, 0, index - 1)\n",
    "        the_array = the_array[:pos] + [value] + the_array[pos:index] + the_array[index+1:]\n",
    "    return the_array\n",
    "\n",
    "def merge(left, right):\n",
    "    if not left:\n",
    "        return right\n",
    "    if not right:\n",
    "        return left\n",
    "    if left[0] < right[0]:\n",
    "        return [left[0]] + merge(left[1:], right)\n",
    "    return [right[0]] + merge(left, right[1:])\n",
    "\n",
    "def timSort(vector,value):\n",
    "    array = list(vector)\n",
    "    runs, sorted_runs = [], []\n",
    "    l = len(array)\n",
    "    new_run = [array[0]]\n",
    "    for i in range(1, l):\n",
    "        if i == l-1:\n",
    "            new_run.append(array[i])\n",
    "            runs.append(new_run)\n",
    "            break\n",
    "        if array[i] < array[i-1]:\n",
    "            if not new_run:\n",
    "                runs.append([array[i-1]])\n",
    "                new_run.append(array[i])\n",
    "            else:\n",
    "                runs.append(new_run)\n",
    "                new_run = []\n",
    "        else:\n",
    "            new_run.append(array[i])\n",
    "    for each in runs:\n",
    "        sorted_runs.append(insertion_sort(each))\n",
    "    sorted_array = []\n",
    "    for run in sorted_runs:\n",
    "        sorted_array = merge(sorted_array, run)\n",
    "    return sorted_array"
   ]
  },
  {
   "cell_type": "code",
   "execution_count": 56,
   "metadata": {},
   "outputs": [],
   "source": [
    "def decorator(f, vector, value):\n",
    "    t = timeit.timeit('{}'.format(f(vector,value)),number=1, globals=globals())\n",
    "    return t*1000000"
   ]
  },
  {
   "cell_type": "code",
   "execution_count": 57,
   "metadata": {
    "scrolled": true
   },
   "outputs": [],
   "source": [
    "def runFunctions(n, value, run):\n",
    "    dict = {}\n",
    "    functions = [constant,sumOfVector,productOfVector,calculatePolinom,horners,bubbleSort,quickSort,timSort]\n",
    "    for i in tqdm(range(1,n)):\n",
    "        tmp = {}\n",
    "        \n",
    "        for j in range(run):\n",
    "            vector = list(numpy.random.randint(100, size=i))\n",
    "            for func in functions:\n",
    "                t = decorator(func,vector,value)\n",
    "                name = func.__name__\n",
    "                if name in tmp:\n",
    "                    tmp[func.__name__].append(t)\n",
    "                else:\n",
    "                    tmp[func.__name__] = [t]\n",
    "                \n",
    "        for name in tmp:\n",
    "            if name in dict:\n",
    "                dict[name].append(sum(tmp[name])/len(tmp[name]))\n",
    "            else:\n",
    "                dict[name] = [sum(tmp[name])/len(tmp[name])]\n",
    "    return dict"
   ]
  },
  {
   "cell_type": "code",
   "execution_count": 59,
   "metadata": {},
   "outputs": [],
   "source": [
    "def writeCSV(data):\n",
    "    with open('data.csv', 'w') as f:\n",
    "        writer = csv.writer(f)\n",
    "        for key, value in data.items():\n",
    "            writer.writerow([key, value])"
   ]
  },
  {
   "cell_type": "code",
   "execution_count": 95,
   "metadata": {},
   "outputs": [],
   "source": [
    "def readCSV():\n",
    "    data = {}\n",
    "    with open('data.csv', 'r') as f:\n",
    "        reader = csv.reader(f)\n",
    "        for row in reader:\n",
    "            k, v = row\n",
    "            data[k] = [float(item) for item in v.replace(\" \",\"\").split(\",\")[1:-1]]\n",
    "    return data"
   ]
  },
  {
   "cell_type": "code",
   "execution_count": 61,
   "metadata": {},
   "outputs": [],
   "source": [
    "def multiplyMatrix(n):\n",
    "    t_ser = []\n",
    "    for i in tqdm(range(1,n)):\n",
    "        A = numpy.random.rand(i,i)\n",
    "        B = numpy.random.rand(i,i)\n",
    "        tim = timeit.Timer(functools.partial(numpy.dot,A,B))\n",
    "        t_ser.append(tim.timeit(1))\n",
    "        \n",
    "    return t_ser"
   ]
  },
  {
   "cell_type": "code",
   "execution_count": 199,
   "metadata": {},
   "outputs": [],
   "source": [
    "def drawPlots(data, n, name):\n",
    "    n = len(data)+1\n",
    "    x = [item for item in range(1,n)]\n",
    "    \n",
    "    MAX=max(data)\n",
    "    plt.style.use('seaborn-darkgrid')\n",
    "    \n",
    "    fig = plt.figure(figsize=(10,10))\n",
    "    plt.plot(x, data,color='black',linewidth=1, alpha=0.9, label=name)\n",
    "\n",
    "    plt.xlim(1,n)\n",
    "    plt.ylim(0,MAX)\n",
    "    plt.xlabel('n',fontsize=18)\n",
    "    plt.ylabel('time (in sec *10^-6)',fontsize=18)\n",
    "    plt.savefig(\"pictures/\"+name+\".png\")\n",
    "    plt.close(fig)"
   ]
  },
  {
   "cell_type": "code",
   "execution_count": 203,
   "metadata": {
    "scrolled": false
   },
   "outputs": [],
   "source": [
    "number = 2001\n",
    "val = 1.5\n",
    "run = 5\n",
    "lower_bound = 0.05\n",
    "upper_bound = 0.95\n",
    "\n",
    "#data = runFunctions(number, val, run)\n",
    "#writeCSV(data)\n",
    "data=readCSV()\n",
    "df = pandas.DataFrame.from_dict(data)"
   ]
  },
  {
   "cell_type": "code",
   "execution_count": 204,
   "metadata": {},
   "outputs": [],
   "source": [
    "window_radius = 10\n",
    "for item in data.keys():\n",
    "    for index in range(window_radius,len(df[item])):\n",
    "        s = df[item][index-window_radius:index+window_radius]\n",
    "        avg = sum(s) / len(s) \n",
    "        df[item][index] = avg"
   ]
  },
  {
   "cell_type": "code",
   "execution_count": 205,
   "metadata": {},
   "outputs": [],
   "source": [
    "for item in data.keys():\n",
    "    drawPlots(df[item], 1998, item)"
   ]
  },
  {
   "cell_type": "code",
   "execution_count": 197,
   "metadata": {},
   "outputs": [],
   "source": [
    "def matrix():\n",
    "    n=2001\n",
    "    x = [item for item in range(1,n)]\n",
    "    \n",
    "    data = multiplyMatrix(n)\n",
    "    \n",
    "    MAX=max(data)\n",
    "    plt.style.use('seaborn-darkgrid')\n",
    "    fig = plt.figure(figsize=(10,5))\n",
    "    plt.plot(x, data,color='black',linewidth=1, alpha=0.9, label=\"matrix_product\")\n",
    "    plt.xlabel('n')\n",
    "    plt.ylabel('time (in sec)')\n",
    "    plt.title(\"matrix_product\", fontsize=12, fontweight=0, color='black')\n",
    "    plt.xlim(1,n)\n",
    "    plt.ylim(0,MAX)\n",
    "    plt.savefig(\"pictures/matrix.png\")\n",
    "    plt.close(fig)"
   ]
  },
  {
   "cell_type": "code",
   "execution_count": 198,
   "metadata": {},
   "outputs": [
    {
     "name": "stderr",
     "output_type": "stream",
     "text": [
      "100%|██████████| 2000/2000 [03:07<00:00, 10.66it/s] \n"
     ]
    }
   ],
   "source": [
    "matrix()"
   ]
  },
  {
   "cell_type": "code",
   "execution_count": null,
   "metadata": {},
   "outputs": [],
   "source": []
  }
 ],
 "metadata": {
  "kernelspec": {
   "display_name": "Python 3",
   "language": "python",
   "name": "python3"
  },
  "language_info": {
   "codemirror_mode": {
    "name": "ipython",
    "version": 3
   },
   "file_extension": ".py",
   "mimetype": "text/x-python",
   "name": "python",
   "nbconvert_exporter": "python",
   "pygments_lexer": "ipython3",
   "version": "3.8.5"
  }
 },
 "nbformat": 4,
 "nbformat_minor": 4
}
